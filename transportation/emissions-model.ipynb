{
 "cells": [
  {
   "cell_type": "markdown",
   "metadata": {},
   "source": [
    "# Introduction\n",
    "\n",
    "This notebook implements a simple model of transportation emissions to help evaluate different ways of getting to the mountains in Switzerland.\n",
    "\n",
    "# Data sources\n",
    "\n",
    "Primary data sources for this model are:\n",
    "\n",
    "* [Mobitool v3.0](https://www.mobitool.ch/), Paul Scherrer Institut. 2023.\n",
    "* Sacchi and Bauer, [Understanding the carbon footprint of your daily commute: a guide to climate-friendly urban transport](https://blogs.ethz.ch/energy/daily-commute-carbon-footprint/), Energy Blog, ETH Zurich, 2023;\n",
    "* UK Department for Energy Security and Net Zero [Greenhouse gas reporting: conversion factors 2023](https://www.gov.uk/government/publications/greenhouse-gas-reporting-conversion-factors-2023) (assumes UK energy mix for electric vehicles, which is dirtier than the Swiss energy mix);\n",
    "* [Our World in Data](https://ourworldindata.org/travel-carbon-footprint) (based on the 2022 UK report).\n",
    "\n",
    "Other data sources for sanity checking:\n",
    "* manufacturer data on electric car efficiency (https://www.evspecs.org/);\n",
    "* CH Bundesamt für Energie [CO2 emissions regulations](https://www.bfe.admin.ch/bfe/en/home/efficiency/mobility/co2-emission-regulations-for-new-vehicles.html) for new vehicles;\n",
    "* [Electricity Maps](https://app.electricitymaps.com/map).\n"
   ]
  },
  {
   "cell_type": "code",
   "execution_count": null,
   "metadata": {},
   "outputs": [],
   "source": [
    "gco2e_per_km = {\n",
    "    # g CO2e / pkm [ OWID, PSI]. -1 means no data.\n",
    "    # Road transport\n",
    "    \"bicycle\": [-1, 6],\n",
    "    \"coach bus\": [27, 46],\n",
    "    \"gasoline car\": [170, 151],\n",
    "    \"electric car\": [47, 69],\n",
    "    \"motorbike\": [114, 163],\n",
    "    # Rail transport\n",
    "    \"tgv\": [4, 12],\n",
    "    \"rail uk\": [35, -1],\n",
    "    \"rail ch\": [-1, 7],\n",
    "    \"tram\": [29],\n",
    "    # Air transport\n",
    "    \"flight short\": [246, 292], # continental, economy\n",
    "    \"flight long\": [253, 285], # intercontinental, economy\n",
    "}\n",
    "\n",
    "heli_g_co2e_per_h = 966489"
   ]
  }
 ],
 "metadata": {
  "language_info": {
   "name": "python"
  }
 },
 "nbformat": 4,
 "nbformat_minor": 2
}
