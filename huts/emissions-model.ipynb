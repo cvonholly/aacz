{
 "cells": [
  {
   "cell_type": "markdown",
   "metadata": {},
   "source": [
    "# Introduction\n",
    "\n",
    "This notebook is a simple interactive model of emissions at the Mischabel and Windgällen huts.\n",
    "\n",
    "The intent is to allow us explore different scenarios and to estimate the impact of possible interventions (i.e., is a given change worthwhile?).\n",
    "\n",
    "The model focuses on food consumption, transportation (helicopter), and, where available, possibly avoidable fuel consumption (e.g., use of the generator at Mischabelhütte). It assumes that most electricity for lighting (and heating/dehumidification in winter) comes from renewables [CC 240126].\n",
    "\n",
    "For now the model ignores fuel used for cooking because I could not find data. This consumption is unavoidable, but it could be an important part of the denominator when measuring the overall percentage impact of planned emissions reductions."
   ]
  },
  {
   "cell_type": "markdown",
   "metadata": {},
   "source": [
    "# Data sources\n",
    "\n",
    "The model in this notebook is based on the following data and sources.\n",
    "\n",
    "## Hut visitation data\n",
    "\n",
    "| Year | Hut        | Overnights | Meal Sales (k CHF) | Source               |\n",
    "|------|------------|------------|--------------------|----------------------|\n",
    "| 2021 | Mischabel  | 2000       | n/a                | GV 220506            |\n",
    "| 2021 | Windgällen | 2700       | >300               | GV 220506            |\n",
    "| 2022 | Mischabel  | 3100       | n/a                | GV 230616, CC 221026 |\n",
    "| 2022 | Windgällen | 3450       | 400 (?)            | CC 221026, CC 230930 |\n",
    "| 2023 | Mischabel  | 3200       | n/a                | CC 230930, CC 240126 |\n",
    "| 2023 | Windgällen | 3750       | n/a                | CC 230930, CC 240126 |\n",
    "\n",
    "## Other notes about hut operation\n",
    "\n",
    "* Fuel use\n",
    "  * 900 CHF for generator fuel at Mischabel in 2023 [CC 230930]\n",
    "* Heli operations\n",
    "  * ~12 heli flights/season (1/week) to Mischabel [Alicia Köster, communication with Claudine Blaser]\n",
    "  * Apparently each heli flight flies only ~100 kg of fresh vegetables and meat to the hut. The limiting factor appears to be\n",
    "    storage/refrigeration space in the hut.\n",
    "* Vegetarian meals\n",
    "  * Annina and Wisi at Windgällenhütte already serve exclusively vegetarian meals 3-4 days/week [Alicia Köster]\n",
    "\n",
    "## Food and drink-related emissions\n",
    "\n",
    "Data on food-related emissions across the supply chain is from [Our World in Data](https://ourworldindata.org):\n",
    "* https://ourworldindata.org/grapher/food-emissions-supply-chain\n",
    "* https://ourworldindata.org/grapher/ghg-per-protein-poore\n",
    "* https://ourworldindata.org/grapher/ghg-kcal-poore\n",
    "which is based on [Poore and Nemecek, 2018](https://doi.org/10.1126/science.aaq0216), the large meta-analysis of food systems to date.\n",
    "\n",
    "Additional data for bottled drinks comes from [Carbon Cloud](https://carboncloud.com). The impact of different containers (kegs, bottles, etc.) is based on [Bowler et al., 2014](https://doi.org/10.1016/j.jclepro.2023.140181) and [Cimini and Moresi, 2016](https://doi.org/10.1016/j.jclepro.2015.06.063). The authors provide a range of estimates: I have chosen middle-of-the-road values. Differences in life-cycle emissions for different packaging types are (for now) not incorporated further into transportation emissions (i.e., they do not affect heli emissions estimates).\n",
    "\n",
    "## Transportation emissions\n",
    "\n",
    "Data on helicopter performance comes from [Air Zermatt](https://air-zermatt.ch) and the Eurocopter [technical data sheet](https://www.aviatorsdatabase.com/wp-content/uploads/2013/07/AS350-B3.pdf)\n"
   ]
  },
  {
   "cell_type": "code",
   "execution_count": 1,
   "metadata": {},
   "outputs": [
    {
     "name": "stdout",
     "output_type": "stream",
     "text": [
      "Total CO2 Emissions: 1706.40 kg CO2\n"
     ]
    }
   ],
   "source": [
    "import pandas as pd\n",
    "import numpy as np\n",
    "import matplotlib.pyplot as plt\n",
    "\n",
    "# High-level emission areas for a hut\n",
    "containers = {\n",
    "    'Beer bottle': {\n",
    "        'weight_kg': 0.3,  # Weight in kg\n",
    "        'capacity_l': 0.5,  # Capacity in liters\n",
    "        'emission_factor_kg_co2_per_kg': 0.5  # CO2 emissions per kg of container\n",
    "    },\n",
    "    'Wine bottle': {\n",
    "        'weight_kg': 0.5,\n",
    "        'capacity_l': 0.75,\n",
    "        'emission_factor_kg_co2_per_kg': 0.6\n",
    "    },\n",
    "    'Keg': {\n",
    "        'weight_kg': 10,\n",
    "        'capacity_l': 30,\n",
    "        'emission_factor_kg_co2_per_kg': 0.4\n",
    "    }\n",
    "}\n",
    "# kg CO2eq emissions per kg of food\n",
    "food_emissions_per_kg = {\n",
    "    \"beef\": 99,\n",
    "    \"lamb\": 40,\n",
    "    \"chicken\": 10,\n",
    "    \"pork\": 12,\n",
    "    \"cheese\": 24,\n",
    "    \"grains\": 1.4,\n",
    "    \"potatoes\": 0.5,\n",
    "    \"pulses\": 2,\n",
    "    \"tofu\": 3   \n",
    "}\n",
    "meal_emissions = {\n",
    "    # Vegetarian meal: 100g tofu, 100g pulses, 100g grains, 100g potatoes, 50g cheese\n",
    "    \"vegetarian\": food_emissions_per_kg[\"tofu\"] * 0.1 + food_emissions_per_kg[\"pulses\"] * 0.1 + food_emissions_per_kg[\"grains\"] * 0.1 + food_emissions_per_kg[\"potatoes\"] * 0.1 + food_emissions_per_kg[\"cheese\"] * 0.05,\n",
    "    # Beef meal: 100g beef, 100g potatoes, 100g grains, 50g cheese\n",
    "    \"beef\": food_emissions_per_kg[\"beef\"] * 0.1 + food_emissions_per_kg[\"potatoes\"] * 0.1 + food_emissions_per_kg[\"grains\"] * 0.1 + food_emissions_per_kg[\"cheese\"] * 0.05,\n",
    "    # Lamb meal: 100g lamb, 100g potatoes, 100g grains, 50g cheese\n",
    "    \"lamb\": food_emissions_per_kg[\"lamb\"] * 0.1 + food_emissions_per_kg[\"potatoes\"] * 0.1 + food_emissions_per_kg[\"grains\"] * 0.1 + food_emissions_per_kg[\"cheese\"] * 0.05,\n",
    "    # Pork meal: 100g pork, 100g potatoes, 100g grains, 50g cheese\n",
    "    \"pork\": food_emissions_per_kg[\"pork\"] * 0.1 + food_emissions_per_kg[\"potatoes\"] * 0.1 + food_emissions_per_kg[\"grains\"] * 0.1 + food_emissions_per_kg[\"cheese\"] * 0.05,\n",
    "    # Chicken meal: 100g chicken, 100g potatoes, 100g grains, 50g cheese\n",
    "    \"chicken\": food_emissions_per_kg[\"chicken\"] * 0.1 + food_emissions_per_kg[\"potatoes\"] * 0.1 + food_emissions_per_kg[\"grains\"] * 0.1 + food_emissions_per_kg[\"cheese\"] * 0.05\n",
    "}\n",
    "visitation = {\n",
    "    \"visitor_nights_per_season\": 1000,\n",
    "    \"fraction_vegetarian\": 0.2,\n",
    "    \"beers_per_visitor_night\": 1,\n",
    "}\n",
    "heating = {\n",
    "    \"energy_type\": \"propane\",\n",
    "    \"fuel_per_season_l\": 1000,\n",
    "    \"emission_factor_kg_co2_per_l\": 1.5\n",
    "}\n",
    "heli_transport = {\n",
    "    'num_trips': 12,  # Number of trips per season\n",
    "    'fuel_burn_rate_kg_per_h': 150,\n",
    "    'flight_duration_h': 0.3,  # Flight duration per round trip\n",
    "    'emission_factor_kg_co2_per_kg': 3.16 # CO2 emissions per kg of kerosene\n",
    "}\n",
    "\n",
    "def single_meal_emissions(food_emissions_per_kg, visitation):\n",
    "    total_meal_emissions = 0\n",
    "    for food, emissions_per_kg in food_emissions_per_kg.items():\n",
    "        if food in [\"beef\", \"lamb\", \"chicken\", \"pork\"]:\n",
    "            total_meal_emissions += emissions_per_kg * 0.2 * 0.125\n",
    "        else:\n",
    "            total_meal_emissions += emissions_per_kg * 0.8 * 0.125\n",
    "    return total_meal_emissions\n",
    "\n",
    "def heli_emissions():\n",
    "    return heli_transport['num_trips'] * heli_transport['fuel_burn_rate_kg_per_h'] * heli_transport['flight_duration_h'] * heli_transport['emission_factor_kg_co2_per_kg']\n",
    "\n",
    "\"\"\" # Function to calculate food supply chain emissions\n",
    "def calculate_food_emissions(params):\n",
    "    return params['total_weight_kg'] * params['avg_distance_km'] * params['emission_factor_kg_co2_per_km_per_kg']\n",
    "\n",
    "# Function to calculate drink supply chain emissions\n",
    "def calculate_drink_emissions(params):\n",
    "    return params['total_weight_kg'] * params['avg_distance_km'] * params['emission_factor_kg_co2_per_km_per_kg']\n",
    "\n",
    "# Function to calculate heating emissions\n",
    "def calculate_heating_emissions(params):\n",
    "    return params['total_energy_consumed_liters'] * params['emission_factor_kg_co2_per_liter']\n",
    " \"\"\"\n",
    "def total_emissions():\n",
    "    e = 0\n",
    "    e += heli_emissions()\n",
    "    return e\n",
    "\n",
    "e = total_emissions()\n",
    "print(f\"Total CO2 Emissions: {e:.2f} kg CO2\")\n"
   ]
  },
  {
   "cell_type": "code",
   "execution_count": 3,
   "metadata": {},
   "outputs": [
    {
     "data": {
      "application/vnd.jupyter.widget-view+json": {
       "model_id": "b443cf30f89c4ac9b05292c3f1d128e5",
       "version_major": 2,
       "version_minor": 0
      },
      "text/plain": [
       "interactive(children=(IntSlider(value=12, description='num_trips', max=20, min=1), Output()), _dom_classes=('w…"
      ]
     },
     "metadata": {},
     "output_type": "display_data"
    },
    {
     "data": {
      "text/plain": [
       "<function __main__.interactive_emissions(num_trips=12)>"
      ]
     },
     "execution_count": 3,
     "metadata": {},
     "output_type": "execute_result"
    }
   ],
   "source": [
    "from ipywidgets import interact\n",
    "\n",
    "# Interactive function to calculate total emissions based on user input\n",
    "def interactive_emissions(num_trips=12):\n",
    "    heli_transport['num_trips'] = num_trips    \n",
    "    e = total_emissions()\n",
    "    print(f\"Total CO2 Emissions: {e:.2f} kg CO2\")\n",
    "\n",
    "# Create sliders for user interaction\n",
    "interact(interactive_emissions, num_trips=(1, 20))\n"
   ]
  }
 ],
 "metadata": {
  "kernelspec": {
   "display_name": "Python 3 (ipykernel)",
   "language": "python",
   "name": "python3"
  },
  "language_info": {
   "codemirror_mode": {
    "name": "ipython",
    "version": 3
   },
   "file_extension": ".py",
   "mimetype": "text/x-python",
   "name": "python",
   "nbconvert_exporter": "python",
   "pygments_lexer": "ipython3",
   "version": "3.9.6"
  }
 },
 "nbformat": 4,
 "nbformat_minor": 2
}
