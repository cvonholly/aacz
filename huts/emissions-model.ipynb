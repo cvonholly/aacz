{
 "cells": [
  {
   "cell_type": "code",
   "execution_count": 2,
   "metadata": {},
   "outputs": [
    {
     "name": "stdout",
     "output_type": "stream",
     "text": [
      "Total CO2 Emissions: 10060.00 kg CO2\n"
     ]
    }
   ],
   "source": [
    "import pandas as pd\n",
    "import numpy as np\n",
    "import matplotlib.pyplot as plt\n",
    "\n",
    "# High-level emission areas for the alpine hut\n",
    "emission_sources = {\n",
    "    'Helicopter Transport': {\n",
    "        'num_trips': 10,  # Number of trips per season\n",
    "        'fuel_per_trip_liters': 200,  # Liters of fuel per trip\n",
    "        'emission_factor_kg_co2_per_liter': 2.5  # CO2 emissions per liter of fuel\n",
    "    },\n",
    "    'Food Supply Chain': {\n",
    "        'total_weight_kg': 500,  # Total weight of food per season\n",
    "        'avg_distance_km': 100,  # Average distance food travels\n",
    "        'emission_factor_kg_co2_per_km_per_kg': 0.05  # CO2 emissions per km per kg of food\n",
    "    },\n",
    "    'Drink Supply Chain': {\n",
    "        'total_weight_kg': 300,\n",
    "        'avg_distance_km': 80,\n",
    "        'emission_factor_kg_co2_per_km_per_kg': 0.04\n",
    "    },\n",
    "    'Heating': {\n",
    "        'energy_type': 'propane',  # Type of energy (e.g., propane, biomass)\n",
    "        'total_energy_consumed_liters': 1000,  # Liters of propane\n",
    "        'emission_factor_kg_co2_per_liter': 1.6  # CO2 emissions per liter\n",
    "    }\n",
    "}\n",
    "\n",
    "# Display the high-level structure\n",
    "emission_sources\n",
    "\n",
    "# Function to calculate helicopter transport emissions\n",
    "def calculate_helicopter_emissions(params):\n",
    "    return params['num_trips'] * params['fuel_per_trip_liters'] * params['emission_factor_kg_co2_per_liter']\n",
    "\n",
    "# Function to calculate food supply chain emissions\n",
    "def calculate_food_emissions(params):\n",
    "    return params['total_weight_kg'] * params['avg_distance_km'] * params['emission_factor_kg_co2_per_km_per_kg']\n",
    "\n",
    "# Function to calculate drink supply chain emissions\n",
    "def calculate_drink_emissions(params):\n",
    "    return params['total_weight_kg'] * params['avg_distance_km'] * params['emission_factor_kg_co2_per_km_per_kg']\n",
    "\n",
    "# Function to calculate heating emissions\n",
    "def calculate_heating_emissions(params):\n",
    "    return params['total_energy_consumed_liters'] * params['emission_factor_kg_co2_per_liter']\n",
    "\n",
    "def calculate_total_emissions(sources):\n",
    "    total_emissions = 0\n",
    "    total_emissions += calculate_helicopter_emissions(sources['Helicopter Transport'])\n",
    "    total_emissions += calculate_food_emissions(sources['Food Supply Chain'])\n",
    "    total_emissions += calculate_drink_emissions(sources['Drink Supply Chain'])\n",
    "    total_emissions += calculate_heating_emissions(sources['Heating'])\n",
    "    return total_emissions\n",
    "\n",
    "# Calculate and display total emissions\n",
    "total_emissions = calculate_total_emissions(emission_sources)\n",
    "print(f\"Total CO2 Emissions: {total_emissions:.2f} kg CO2\")\n"
   ]
  },
  {
   "cell_type": "code",
   "execution_count": null,
   "metadata": {},
   "outputs": [],
   "source": []
  },
  {
   "cell_type": "code",
   "execution_count": 3,
   "metadata": {},
   "outputs": [
    {
     "data": {
      "application/vnd.jupyter.widget-view+json": {
       "model_id": "cf9efb9384ff4438a518d1342e377163",
       "version_major": 2,
       "version_minor": 0
      },
      "text/plain": [
       "interactive(children=(IntSlider(value=10, description='num_trips', max=20, min=1), IntSlider(value=200, descri…"
      ]
     },
     "metadata": {},
     "output_type": "display_data"
    },
    {
     "data": {
      "text/plain": [
       "<function __main__.interactive_emissions(num_trips=10, fuel_per_trip_liters=200, total_food_weight_kg=500, heating_fuel_liters=1000)>"
      ]
     },
     "execution_count": 3,
     "metadata": {},
     "output_type": "execute_result"
    }
   ],
   "source": [
    "from ipywidgets import interact\n",
    "\n",
    "# Interactive function to calculate total emissions based on user input\n",
    "def interactive_emissions(num_trips=10, fuel_per_trip_liters=200, total_food_weight_kg=500, heating_fuel_liters=1000):\n",
    "    emission_sources['Helicopter Transport']['num_trips'] = num_trips\n",
    "    emission_sources['Helicopter Transport']['fuel_per_trip_liters'] = fuel_per_trip_liters\n",
    "    emission_sources['Food Supply Chain']['total_weight_kg'] = total_food_weight_kg\n",
    "    emission_sources['Heating']['total_energy_consumed_liters'] = heating_fuel_liters\n",
    "    \n",
    "    total_emissions = calculate_total_emissions(emission_sources)\n",
    "    print(f\"Total CO2 Emissions: {total_emissions:.2f} kg CO2\")\n",
    "\n",
    "# Create sliders for user interaction\n",
    "interact(interactive_emissions, num_trips=(1, 20), fuel_per_trip_liters=(100, 300), total_food_weight_kg=(100, 1000), heating_fuel_liters=(500, 2000))\n"
   ]
  }
 ],
 "metadata": {
  "kernelspec": {
   "display_name": "Python 3 (ipykernel)",
   "language": "python",
   "name": "python3"
  },
  "language_info": {
   "codemirror_mode": {
    "name": "ipython",
    "version": 3
   },
   "file_extension": ".py",
   "mimetype": "text/x-python",
   "name": "python",
   "nbconvert_exporter": "python",
   "pygments_lexer": "ipython3",
   "version": "3.9.6"
  }
 },
 "nbformat": 4,
 "nbformat_minor": 2
}
